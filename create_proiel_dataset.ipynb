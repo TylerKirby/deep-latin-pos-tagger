{
 "cells": [
  {
   "cell_type": "code",
   "execution_count": 9,
   "metadata": {},
   "outputs": [],
   "source": [
    "import os\n",
    "import json\n",
    "from xml.dom import minidom"
   ]
  },
  {
   "cell_type": "code",
   "execution_count": 3,
   "metadata": {},
   "outputs": [],
   "source": [
    "tree = minidom.parse('./proiel/cic-att.xml')"
   ]
  },
  {
   "cell_type": "code",
   "execution_count": 4,
   "metadata": {},
   "outputs": [],
   "source": [
    "sentences = tree.getElementsByTagName('sentence')"
   ]
  },
  {
   "cell_type": "code",
   "execution_count": 5,
   "metadata": {},
   "outputs": [
    {
     "name": "stdout",
     "output_type": "stream",
     "text": [
      "petitionis Nb -s---fg--i\n",
      "nostrae Ps 1s---fg--i\n",
      "quam Pr -s---fa--i\n",
      "tibi Pp 2s---md--i\n",
      "summae A- -s---fdp-i\n",
      "curae Nb -s---fd--i\n",
      "esse V- --pna----i\n",
      "scio V- 1spia----i\n",
      "huius Pd -s---qg--i\n",
      "modi Nb -s---mg--i\n",
      "ratio Nb -s---fn--i\n",
      "est V- 3spia----i\n",
      "quod Pr -s---na--i\n",
      "adhuc Df ---------n\n",
      "coniectura Nb -s---fb--i\n",
      "provideri V- --pnp----i\n",
      "possit V- 3spsa----i\n"
     ]
    }
   ],
   "source": [
    "for c in sentences[0].getElementsByTagName('token'):\n",
    "    if c.hasAttribute('form') and c.hasAttribute('part-of-speech') and c.hasAttribute('morphology'):\n",
    "        print(c.attributes['form'].value, c.attributes['part-of-speech'].value, c.attributes['morphology'].value)"
   ]
  },
  {
   "cell_type": "code",
   "execution_count": 6,
   "metadata": {},
   "outputs": [
    {
     "data": {
      "text/plain": [
       "['./proiel/latin-nt.xml',\n",
       " './proiel/cic-off.xml',\n",
       " './proiel/pal-agr.xml',\n",
       " './proiel/cic-att.xml',\n",
       " './proiel/per-aeth.xml']"
      ]
     },
     "execution_count": 6,
     "metadata": {},
     "output_type": "execute_result"
    }
   ],
   "source": [
    "texts = [f'./proiel/{i}' for i in os.listdir('./proiel/')]\n",
    "texts"
   ]
  },
  {
   "cell_type": "code",
   "execution_count": 10,
   "metadata": {},
   "outputs": [],
   "source": [
    "corpus = {}\n",
    "for t in texts:\n",
    "    tree = minidom.parse(t)\n",
    "    sentences = tree.getElementsByTagName('sentence')\n",
    "    parsed = []\n",
    "    for s in sentences:\n",
    "        tokens = []\n",
    "        for token in s.getElementsByTagName('token'):\n",
    "            if token.hasAttribute('form') and token.hasAttribute('part-of-speech') and token.hasAttribute('morphology'):\n",
    "                i = {'word': token.getAttribute('form'), 'pos': token.getAttribute('part-of-speech'), 'tag': token.getAttribute('morphology')}\n",
    "                tokens.append(i)\n",
    "        parsed.append(tokens)\n",
    "    corpus[t] = parsed"
   ]
  },
  {
   "cell_type": "code",
   "execution_count": 11,
   "metadata": {},
   "outputs": [],
   "source": [
    "with open('proiel.json', 'w') as f:\n",
    "    json.dump(corpus, f, indent=4)"
   ]
  },
  {
   "cell_type": "code",
   "execution_count": null,
   "metadata": {},
   "outputs": [],
   "source": []
  }
 ],
 "metadata": {
  "kernelspec": {
   "display_name": "Python 3",
   "language": "python",
   "name": "python3"
  },
  "language_info": {
   "codemirror_mode": {
    "name": "ipython",
    "version": 3
   },
   "file_extension": ".py",
   "mimetype": "text/x-python",
   "name": "python",
   "nbconvert_exporter": "python",
   "pygments_lexer": "ipython3",
   "version": "3.7.1"
  }
 },
 "nbformat": 4,
 "nbformat_minor": 2
}
