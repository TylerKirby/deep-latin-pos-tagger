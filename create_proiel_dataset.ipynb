{
 "cells": [
  {
   "cell_type": "code",
   "execution_count": 19,
   "metadata": {
    "pycharm": {
     "is_executing": false
    }
   },
   "outputs": [],
   "source": [
    "import os\n",
    "import json\n",
    "from xml.dom import minidom"
   ]
  },
  {
   "cell_type": "code",
   "execution_count": 20,
   "metadata": {
    "pycharm": {
     "is_executing": false
    }
   },
   "outputs": [],
   "source": [
    "tree = minidom.parse('./proiel/cic-att.xml')"
   ]
  },
  {
   "cell_type": "code",
   "execution_count": 21,
   "metadata": {
    "pycharm": {
     "is_executing": false
    }
   },
   "outputs": [],
   "source": [
    "sentences = tree.getElementsByTagName('sentence')"
   ]
  },
  {
   "cell_type": "code",
   "execution_count": 22,
   "metadata": {
    "pycharm": {
     "is_executing": false
    }
   },
   "outputs": [
    {
     "name": "stdout",
     "text": [
      "petitionis Nb -s---fg--i\nnostrae Ps 1s---fg--i\nquam Pr -s---fa--i\ntibi Pp 2s---md--i\nsummae A- -s---fdp-i\ncurae Nb -s---fd--i\nesse V- --pna----i\nscio V- 1spia----i\nhuius Pd -s---qg--i\nmodi Nb -s---mg--i\nratio Nb -s---fn--i\nest V- 3spia----i\nquod Pr -s---na--i\nadhuc Df ---------n\nconiectura Nb -s---fb--i\nprovideri V- --pnp----i\npossit V- 3spsa----i\n"
     ],
     "output_type": "stream"
    }
   ],
   "source": [
    "for c in sentences[0].getElementsByTagName('token'):\n",
    "    if c.hasAttribute('form') and c.hasAttribute('part-of-speech') and c.hasAttribute('morphology'):\n",
    "        print(c.attributes['form'].value, c.attributes['part-of-speech'].value, c.attributes['morphology'].value)"
   ]
  },
  {
   "cell_type": "code",
   "execution_count": 23,
   "metadata": {
    "pycharm": {
     "is_executing": false
    }
   },
   "outputs": [
    {
     "data": {
      "text/plain": "['./proiel/latin-nt.xml',\n './proiel/cic-off.xml',\n './proiel/pal-agr.xml',\n './proiel/cic-att.xml',\n './proiel/per-aeth.xml']"
     },
     "metadata": {},
     "output_type": "execute_result",
     "execution_count": 23
    }
   ],
   "source": [
    "texts = [f'./proiel/{i}' for i in os.listdir('./proiel/')]\n",
    "texts"
   ]
  },
  {
   "cell_type": "code",
   "execution_count": 24,
   "metadata": {
    "pycharm": {
     "is_executing": false
    }
   },
   "outputs": [],
   "source": [
    "corpus = {}\n",
    "all_sentences = []\n",
    "for t in texts:\n",
    "    tree = minidom.parse(t)\n",
    "    sentences = tree.getElementsByTagName('sentence')\n",
    "    parsed = []\n",
    "    for s in sentences:\n",
    "        tokens = []\n",
    "        for token in s.getElementsByTagName('token'):\n",
    "            if token.hasAttribute('form') and token.hasAttribute('part-of-speech') and token.hasAttribute('morphology'):\n",
    "                i = {'word': token.getAttribute('form'), 'pos': token.getAttribute('part-of-speech'), 'tag': token.getAttribute('morphology')}\n",
    "                tokens.append(i)\n",
    "        parsed.append(tokens)\n",
    "    all_sentences.extend(parsed)\n",
    "corpus['sentences'] = all_sentences"
   ]
  },
  {
   "cell_type": "code",
   "execution_count": 25,
   "metadata": {
    "pycharm": {
     "is_executing": false
    }
   },
   "outputs": [],
   "source": [
    "with open('proiel.json', 'w') as f:\n",
    "    json.dump(corpus, f, indent=4)"
   ]
  },
  {
   "cell_type": "code",
   "execution_count": null,
   "metadata": {},
   "outputs": [],
   "source": []
  }
 ],
 "metadata": {
  "kernelspec": {
   "display_name": "Python 3",
   "language": "python",
   "name": "python3"
  },
  "language_info": {
   "codemirror_mode": {
    "name": "ipython",
    "version": 3
   },
   "file_extension": ".py",
   "mimetype": "text/x-python",
   "name": "python",
   "nbconvert_exporter": "python",
   "pygments_lexer": "ipython3",
   "version": "3.7.1"
  },
  "pycharm": {
   "stem_cell": {
    "cell_type": "raw",
    "source": [],
    "metadata": {
     "collapsed": false
    }
   }
  }
 },
 "nbformat": 4,
 "nbformat_minor": 2
}